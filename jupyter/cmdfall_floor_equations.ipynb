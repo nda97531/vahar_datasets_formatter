{
 "cells": [
  {
   "cell_type": "code",
   "id": "bab6c215",
   "metadata": {
    "ExecuteTime": {
     "end_time": "2025-06-09T21:30:16.583676Z",
     "start_time": "2025-06-09T21:30:16.337325Z"
    }
   },
   "source": [
    "from glob import glob\n",
    "import numpy as np\n",
    "import polars as pl"
   ],
   "outputs": [],
   "execution_count": 1
  },
  {
   "metadata": {
    "ExecuteTime": {
     "end_time": "2025-06-09T21:30:16.603834Z",
     "start_time": "2025-06-09T21:30:16.601645Z"
    }
   },
   "cell_type": "code",
   "source": "dataset_folder = '/mnt/data_partition/downloads/CMDFall'",
   "id": "81e8229cc0e41820",
   "outputs": [],
   "execution_count": 2
  },
  {
   "metadata": {
    "ExecuteTime": {
     "end_time": "2025-06-09T21:31:04.810452Z",
     "start_time": "2025-06-09T21:31:02.163438Z"
    }
   },
   "cell_type": "code",
   "source": [
    "for kinect_id in range(1, 8):\n",
    "    skeleton_files = glob(f'{dataset_folder}/skeleton/*K{kinect_id}.txt')\n",
    "\n",
    "    kinect_floor = []\n",
    "    for skeleton_file in skeleton_files:\n",
    "        # read floor equations from skeleton file\n",
    "        floor_eqs = pl.read_csv(skeleton_file, skip_rows=1, has_header=False, columns=['column_5'])\n",
    "        floor_eqs = floor_eqs.get_column('column_5').to_list()\n",
    "\n",
    "        # convert to numpy array [frame, 4 plane coefficients]\n",
    "        floor_eqs = np.array([eq.split(' ') for eq in floor_eqs if eq is not None], dtype=float)\n",
    "\n",
    "        # drop invalid equations\n",
    "        floor_eqs = floor_eqs[floor_eqs.any(axis=1)]\n",
    "        if len(floor_eqs):\n",
    "            kinect_floor.append(floor_eqs.mean(0))\n",
    "\n",
    "    if len(kinect_floor):\n",
    "        kinect_floor = np.stack(kinect_floor)\n",
    "        print(f'{kinect_id}: {np.mean(kinect_floor, 0)}')"
   ],
   "id": "eb7f043a37e55f10",
   "outputs": [
    {
     "name": "stdout",
     "output_type": "stream",
     "text": [
      "1: [ 0.08206175  0.93994347 -0.33037784  1.70011137]\n",
      "2: [ 0.01397648  0.91808462 -0.39580822  1.67926973]\n",
      "3: [ 0.0262718   0.90158846 -0.43152657  1.63472081]\n",
      "4: [-0.01118109  0.92673825 -0.37469574  1.71229848]\n",
      "5: [-0.04063133  0.97007644 -0.23862125  1.80490598]\n"
     ]
    }
   ],
   "execution_count": 5
  }
 ],
 "metadata": {
  "kernelspec": {
   "display_name": "torch",
   "language": "python",
   "name": "python3"
  },
  "language_info": {
   "codemirror_mode": {
    "name": "ipython",
    "version": 3
   },
   "file_extension": ".py",
   "mimetype": "text/x-python",
   "name": "python",
   "nbconvert_exporter": "python",
   "pygments_lexer": "ipython3",
   "version": "3.11.9"
  }
 },
 "nbformat": 4,
 "nbformat_minor": 5
}
